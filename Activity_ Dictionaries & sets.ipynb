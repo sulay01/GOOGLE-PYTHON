{
 "cells": [
  {
   "cell_type": "markdown",
   "metadata": {
    "id": "-Lwnt5KN31Fq"
   },
   "source": [
    "<h1>Activity: Dictionaries and sets</h1>"
   ]
  },
  {
   "cell_type": "markdown",
   "metadata": {
    "id": "g3HOxOPG39KQ"
   },
   "source": [
    "## Introduction\n",
    "\n",
    "In this lab, you will practice creating, modifying, and working with data structures in Python. This will develop your knowledge of different kinds of data structures and the different operations that you can perform with them to answer questions about the data. This will help you prepare for projects you may encounter where you will need to use data structures to store and keep track of data.\n",
    "\n",
    "In your work as an analyst, you are continuing your research into air quality data collected by the U.S. Environmental Protection Agency (EPA). The air quality index (AQI) is a number that runs from 0 to 500. The higher the AQI value, the greater the level of air pollution and the greater the health concern. For example, an AQI value of 50 or below represents good air quality, while an AQI value over 300 represents hazardous air quality. Refer to this guide from [AirNow.gov](https://www.airnow.gov/aqi/aqi-basics/) for more information.\n",
    "\n",
    "In this activity, you will create, modify, and update dictionaries and sets. You will also be working with more data than in previous labs to more closely resemble situations encountered by working data professionals."
   ]
  },
  {
   "cell_type": "markdown",
   "metadata": {
    "id": "nWswZUkx388N"
   },
   "source": [
    "## Tips for completing this lab\n",
    "\n",
    "As you navigate this lab, keep the following tips in mind:\n",
    "\n",
    "- `### YOUR CODE HERE ###` indicates where you should write code. Be sure to replace this with your own code before running the code cell.\n",
    "- Feel free to open the hints for additional guidance as you work on each task.\n",
    "- To enter your answer to a question, double-click the markdown cell to edit. Be sure to replace the \"[Double-click to enter your responses here.]\" with your own answer.\n",
    "- You can save your work manually by clicking File and then Save in the menu bar at the top of the notebook.\n",
    "- You can download your work locally by clicking File and then Download and then specifying your preferred file format in the menu bar at the top of the notebook.\n",
    "\n"
   ]
  },
  {
   "cell_type": "markdown",
   "metadata": {
    "id": "JlXRqG234ys5"
   },
   "source": [
    "# Task 1: Create a dictionary to store information</h2></summary>\n",
    "\n",
    "Dictionaries are useful when you need a data structure to store information that can be referenced or looked up.\n",
    "\n",
    "In this task you'll begin with three `list` objects:\n",
    "\n",
    "* `state_list` - an ordered list of the state where each data point was recorded\n",
    "* `county_list` - an ordered list of the county where each data point was recorded\n",
    "* `aqi_list` - an ordered list of AQI records\n",
    "\n",
    "As a refresher, here is an example table of some of the information contained in these variables:\n",
    "\n",
    "| state_name | county_name | aqi |\n",
    "| --- | --- | --- |\n",
    "| Arizona | Maricopa | 9 |\n",
    "| California | Alameda | 11 |\n",
    "| California | Sacramento | 35 |\n",
    "| Kentucky | Jefferson | 6 |\n",
    "| Louisiana | East Baton Rouge | 5 |\n",
    "\n",
    "\n",
    "</details>\n",
    "\n",
    "**Reminder:** This lab uses more data than the last one. This table is just a small sample of the information contained in the three lists that are provided for this activity. "
   ]
  },
  {
   "cell_type": "markdown",
   "metadata": {
    "id": "Xnom2939uK6t"
   },
   "source": [
    "## 1a: Create a list of tuples\n",
    "\n",
    "Begin with an intermediary step to prepare the information to be put in a dictionary.\n",
    "\n",
    "* Convert `state_list`, `county_list`, and `aqi_list` to a list of tuples, where each tuple contains information for a single record: `(state, county, aqi)`.\n",
    "\n",
    "* Assign the result to a variable called `epa_tuples`.\n",
    "\n"
   ]
  },
  {
   "cell_type": "code",
   "execution_count": null,
   "metadata": {
    "id": "ifs5GtHdctXg"
   },
   "outputs": [],
   "source": [
    "# RUN THIS CELL TO IMPORT YOUR DATA\n",
    "import ada_c2_labs as lab\n",
    "state_list = lab.fetch_epa('state')\n",
    "county_list = lab.fetch_epa('county')\n",
    "aqi_list = lab.fetch_epa('aqi')"
   ]
  },
  {
   "cell_type": "code",
   "execution_count": 2,
   "metadata": {
    "id": "UFDv3-UMSSQ1"
   },
   "outputs": [
    {
     "name": "stdout",
     "output_type": "stream",
     "text": [
      "[('Arizona', 'Maricopa', 18.0), ('Arizona', 'Maricopa', 9.0), ('Arizona', 'Pima', 20.0), ('California', 'Alameda', 11.0), ('California', 'Butte', 6.0)]\n"
     ]
    }
   ],
   "source": [
    "### YOUR CODE HERE ###\n",
    "# RUN THIS CELL TO IMPORT YOUR DATA\n",
    "import ada_c2_labs as lab\n",
    "state_list = lab.fetch_epa('state')\n",
    "county_list = lab.fetch_epa('county')\n",
    "aqi_list = lab.fetch_epa('aqi')\n",
    "\n",
    "# Combine the three lists into a list of tuples\n",
    "epa_tuples = list(zip(state_list, county_list, aqi_list))\n",
    "\n",
    "# Print the first 5 records to verify\n",
    "print(epa_tuples[:5])\n"
   ]
  },
  {
   "cell_type": "markdown",
   "metadata": {
    "id": "Jj_vkIbrfOFN"
   },
   "source": [
    "<details><summary><h4>Hint 1</h4></summary>\n",
    "\n",
    "Refer to what you learned about element-wise combination of iterable objects.\n",
    "\n",
    "</details>"
   ]
  },
  {
   "cell_type": "markdown",
   "metadata": {
    "id": "NxWv7DjUffHi"
   },
   "source": [
    "<details><summary><h4>Hint 2</h4></summary>\n",
    "\n",
    "It's possible to create a list of tuples using a loop, but there's a much simpler way of accomplishing the task using a built-in Python function.\n",
    "\n",
    "</details>"
   ]
  },
  {
   "cell_type": "markdown",
   "metadata": {
    "id": "-QK1uv6Gf998"
   },
   "source": [
    "<details><summary><h4>Hint 3</h4></summary>\n",
    "\n",
    "The `zip()` function accepts any number of iterable objects as arguments. If the arguments are all of equal length, the function returns an iterator object of tuples, where each tuple contains `element[i]` of each argument.\n",
    "\n",
    "You can then either loop over the iterator object or pass it to the `list()` function to unpack its values.\n",
    "\n",
    "Refer to the [zip() Python documentation](https://docs.python.org/3/library/functions.html#zip) for more information.\n",
    "\n",
    "</details>"
   ]
  },
  {
   "cell_type": "markdown",
   "metadata": {
    "id": "tKtXEIRrgiY0"
   },
   "source": [
    "## 1b: Create a dictionary\n",
    "\n",
    "Now that you have a list of tuples containing AQI records, use it to create a dictionary that allows you to look up a state and get all the county-AQI pairs associated with that state.\n",
    "\n",
    "* Create a dictionary called `aqi_dict`:\n",
    "    * Use a loop to unpack information from each tuple in `epa_tuples`.\n",
    "    * Your dictionary's keys should be states.\n",
    "    * The value at each key should be a list of tuples, where each tuple is a county-AQI pair of a record from a given state.\n",
    "\n",
    "*Example:*\n",
    "```\n",
    "[IN]  aqi_dict['Vermont']\n",
    "[OUT] [('Chittenden', 18.0),\n",
    "       ('Chittenden', 20.0),\n",
    "       ('Chittenden', 3.0),\n",
    "       ('Chittenden', 49.0),\n",
    "       ('Rutland', 15.0),\n",
    "       ('Chittenden', 3.0),\n",
    "       ('Chittenden', 6.0),\n",
    "       ('Rutland', 3.0),\n",
    "       ('Rutland', 6.0),\n",
    "       ('Chittenden', 5.0),\n",
    "       ('Chittenden', 2.0)]\n",
    "```"
   ]
  },
  {
   "cell_type": "code",
   "execution_count": 3,
   "metadata": {
    "id": "5wf42bG-d6wC"
   },
   "outputs": [
    {
     "name": "stdout",
     "output_type": "stream",
     "text": [
      "[('Arizona', [('Maricopa', 18.0), ('Maricopa', 9.0), ('Pima', 20.0), ('Maricopa', 56.0), ('Pima', 30.0), ('Maricopa', 66.0), ('Maricopa', 14.0), ('Maricopa', 60.0), ('Pima', 20.0), ('Pima', 36.0), ('Maricopa', 8.0), ('Maricopa', 18.0), ('Pima', 16.0), ('Pima', 30.0), ('Pima', 5.0), ('Pima', 13.0), ('Pima', 11.0), ('Pima', 5.0), ('Maricopa', 33.0), ('Maricopa', 30.0), ('Maricopa', 22.0), ('Maricopa', 11.0), ('Maricopa', 7.0), ('Maricopa', 31.0), ('Maricopa', 18.0), ('Maricopa', 66.0), ('Maricopa', 22.0), ('Maricopa', 25.0), ('Maricopa', 22.0), ('Maricopa', 45.0), ('Pima', 7.0), ('Maricopa', 17.0), ('Maricopa', 5.0), ('Pima', 5.0), ('Maricopa', 25.0), ('Maricopa', 8.0), ('Maricopa', 8.0), ('Pima', 11.0), ('Pima', 22.0), ('Maricopa', 11.0), ('Maricopa', 9.0), ('Maricopa', 22.0), ('Pima', 13.0), ('Pima', 8.0), ('Maricopa', 8.0), ('Maricopa', 22.0), ('Maricopa', 11.0), ('Maricopa', 7.0), ('Pima', 6.0), ('Pima', 8.0), ('Pima', 3.0), ('Pima', 3.0), ('Maricopa', 5.0), ('Maricopa', 16.0), ('Maricopa', 17.0), ('Maricopa', 28.0), ('Pima', 6.0), ('Pima', 10.0), ('Maricopa', 13.0), ('Pima', 5.0), ('Maricopa', 11.0), ('Pima', 6.0), ('Maricopa', 14.0), ('Pima', 5.0), ('Maricopa', 5.0), ('Maricopa', 0.0), ('Maricopa', 13.0), ('Maricopa', 17.0), ('Maricopa', 7.0), ('Maricopa', 5.0), ('Maricopa', 1.0), ('Maricopa', 5.0)]), ('California', [('Alameda', 11.0), ('Butte', 6.0), ('Fresno', 11.0), ('Kern', 7.0), ('Kern', 3.0), ('Kern', 7.0), ('Los Angeles', 13.0), ('Los Angeles', 18.0), ('Mono', 5.0), ('Sacramento', 35.0), ('San Bernardino', 18.0), ('San Diego', 23.0), ('Santa Barbara', 0.0), ('Shasta', 11.0), ('Humboldt', 30.0), ('Humboldt', 11.0), ('Riverside', 18.0), ('San Bernardino', 11.0), ('San Bernardino', 22.0), ('San Bernardino', 11.0), ('San Diego', 24.0), ('Santa Barbara', 11.0), ('Santa Barbara', 7.0), ('Santa Clara', 11.0), ('Sonoma', 11.0), ('Stanislaus', 0.0), ('Butte', 9.0), ('Kern', 19.0), ('Los Angeles', 23.0), ('Los Angeles', 33.0), ('Los Angeles', 10.0), ('Monterey', 16.0), ('Placer', 13.0), ('Santa Barbara', 47.0), ('Santa Barbara', 0.0), ('Santa Clara', 6.0), ('Tulare', 11.0), ('Alameda', 11.0), ('Contra Costa', 15.0), ('El Dorado', 16.0), ('Fresno', 5.0), ('Mendocino', 0.0), ('Riverside', 13.0), ('Riverside', 40.0), ('San Diego', 10.0), ('Solano', 3.0), ('Alameda', 11.0), ('Butte', 14.0), ('El Dorado', 8.0), ('El Dorado', 6.0), ('Fresno', 35.0), ('Los Angeles', 38.0), ('Los Angeles', 22.0), ('Los Angeles', 93.0), ('Los Angeles', 10.0), ('Los Angeles', 11.0), ('Placer', 6.0), ('Riverside', 43.0), ('San Bernardino', 5.0), ('San Diego', 16.0), ('San Diego', 7.0), ('San Luis Obispo', 13.0), ('Santa Clara', 10.0), ('Ventura', 7.0), ('El Dorado', 18.0), ('Los Angeles', 17.0), ('Los Angeles', 24.0), ('Marin', 8.0), ('Monterey', 7.0), ('Monterey', 1.0), ('Napa', 10.0), ('Placer', 16.0), ('San Bernardino', 6.0), ('San Diego', 6.0), ('San Francisco', 20.0), ('San Luis Obispo', 6.0), ('Sutter', 28.0), ('Tulare', 8.0), ('Ventura', 19.0), ('Fresno', 23.0), ('Kern', 8.0), ('Los Angeles', 20.0), ('Monterey', 6.0), ('Orange', 47.0), ('Orange', 3.0), ('Placer', 10.0), ('Sacramento', 7.0), ('Sacramento', 5.0), ('San Bernardino', 2.0), ('San Bernardino', 10.0), ('San Francisco', 8.0), ('San Joaquin', 3.0), ('San Joaquin', 5.0), ('Santa Clara', 10.0), ('Alameda', 15.0), ('Calaveras', 3.0), ('Contra Costa', 13.0), ('Fresno', 15.0), ('Los Angeles', 59.0), ('Orange', 16.0), ('Sacramento', 20.0), ('Sacramento', 5.0), ('San Diego', 24.0), ('San Diego', 6.0), ('San Francisco', 16.0), ('San Francisco', 16.0), ('Santa Barbara', 2.0), ('Sutter', 5.0), ('Tulare', 17.0), ('Alameda', 5.0), ('Alameda', 11.0), ('El Dorado', 23.0), ('Los Angeles', 13.0), ('Los Angeles', 20.0), ('Mendocino', 8.0), ('Sonoma', 17.0), ('El Dorado', 6.0), ('Los Angeles', 14.0), ('Los Angeles', 28.0), ('Los Angeles', 16.0), ('Orange', 10.0), ('Orange', 47.0), ('Sacramento', 14.0), ('San Diego', 39.0), ('Santa Barbara', 2.0), ('Santa Barbara', 2.0), ('Santa Clara', 36.0), ('Solano', 14.0), ('Yolo', 6.0), ('Alameda', 6.0), ('Contra Costa', 8.0), ('El Dorado', 1.0), ('Imperial', 13.0), ('Los Angeles', 9.0), ('Los Angeles', 17.0), ('Orange', 5.0), ('Riverside', 7.0), ('Riverside', 8.0), ('San Diego', 6.0), ('Tulare', 10.0), ('Tulare', 5.0), ('Ventura', 5.0), ('Ventura', 2.0), ('Fresno', 9.0), ('Los Angeles', 14.0), ('Mendocino', 17.0), ('Sacramento', 5.0), ('Sacramento', 5.0), ('San Bernardino', 3.0), ('Ventura', 5.0), ('Alameda', 20.0), ('Contra Costa', 8.0), ('Imperial', 3.0), ('Kern', 2.0), ('Los Angeles', 2.0), ('Los Angeles', 24.0), ('Los Angeles', 14.0), ('Marin', 16.0), ('Placer', 6.0), ('Riverside', 11.0), ('San Diego', 10.0), ('San Diego', 32.0), ('San Joaquin', 6.0), ('Santa Barbara', 5.0), ('Santa Barbara', 3.0), ('Sutter', 5.0), ('Alameda', 5.0), ('Butte', 11.0), ('Contra Costa', 6.0), ('Fresno', 10.0), ('Fresno', 3.0), ('Orange', 6.0), ('Sacramento', 9.0), ('San Bernardino', 6.0), ('San Bernardino', 17.0), ('San Mateo', 9.0), ('Santa Barbara', 3.0), ('Solano', 5.0), ('Stanislaus', 6.0), ('Contra Costa', 3.0), ('Imperial', 26.0), ('Imperial', 0.0), ('Los Angeles', 5.0), ('Los Angeles', 3.0), ('Los Angeles', 3.0), ('Los Angeles', 7.0), ('Riverside', 7.0), ('San Diego', 9.0), ('San Francisco', 10.0), ('Santa Cruz', 3.0), ('Contra Costa', 5.0), ('Los Angeles', 6.0), ('Monterey', 7.0), ('Sacramento', 9.0), ('Contra Costa', 6.0), ('Sacramento', 3.0), ('Los Angeles', 23.0), ('Alameda', 5.0), ('Alameda', 8.0), ('Humboldt', 2.0), ('Los Angeles', 5.0), ('Mendocino', 3.0), ('Orange', 6.0), ('Riverside', 7.0), ('Monterey', 5.0), ('Monterey', 6.0), ('Orange', 6.0), ('Santa Barbara', 6.0), ('Los Angeles', 5.0), ('Solano', 5.0), ('Contra Costa', 2.0), ('Mendocino', 7.0), ('Imperial', 13.0), ('San Diego', 6.0), ('Sonoma', 3.0), ('San Francisco', 6.0), ('Humboldt', 3.0), ('Riverside', 2.0), ('Los Angeles', 10.0), ('San Bernardino', 7.0), ('Fresno', 2.0), ('Calaveras', 2.0), ('Fresno', 8.0), ('Imperial', 10.0), ('Imperial', 9.0), ('Imperial', 0.0), ('Los Angeles', 13.0), ('Mendocino', 5.0), ('Placer', 5.0), ('San Bernardino', 6.0), ('San Bernardino', 17.0), ('San Mateo', 13.0), ('Santa Clara', 8.0), ('Santa Cruz', 5.0), ('Tuolumne', 11.0), ('San Joaquin', 15.0), ('Imperial', 2.0), ('Contra Costa', 8.0), ('Butte', 3.0), ('San Bernardino', 2.0), ('Los Angeles', 9.0), ('Santa Barbara', 2.0), ('Contra Costa', 8.0), ('San Bernardino', 13.0), ('Orange', 0.0), ('Sacramento', 5.0), ('Orange', 0.0), ('Humboldt', 1.0), ('Santa Barbara', 2.0), ('Stanislaus', 23.0), ('San Joaquin', 2.0), ('Butte', 10.0), ('Alameda', 5.0), ('Santa Barbara', 2.0), ('Santa Barbara', 2.0), ('Riverside', 6.0), ('San Bernardino', 5.0), ('Santa Barbara', 2.0), ('Sacramento', 6.0), ('Los Angeles', 6.0), ('San Francisco', 5.0), ('San Mateo', 3.0), ('Santa Barbara', 6.0), ('Alameda', 1.0), ('Los Angeles', 6.0), ('Los Angeles', 16.0), ('Santa Barbara', 0.0), ('San Diego', 2.0), ('Sacramento', 20.0), ('Fresno', 5.0), ('Fresno', 6.0), ('Santa Clara', 7.0), ('Humboldt', 2.0), ('Los Angeles', 5.0), ('Los Angeles', 1.0), ('San Bernardino', 5.0), ('San Bernardino', 6.0), ('Los Angeles', 3.0), ('Los Angeles', 1.0), ('Imperial', 2.0), ('Sutter', 1.0), ('Riverside', 2.0), ('Los Angeles', 1.0), ('Los Angeles', 2.0), ('Humboldt', 2.0), ('Orange', 8.0), ('Los Angeles', 8.0), ('Fresno', 3.0), ('Fresno', 6.0), ('Santa Barbara', 2.0), ('San Bernardino', 9.0), ('San Bernardino', 6.0), ('Orange', 3.0), ('Los Angeles', 5.0), ('San Mateo', 5.0), ('Santa Barbara', 5.0), ('Humboldt', 2.0), ('Los Angeles', 5.0), ('San Diego', 6.0), ('Orange', 0.0), ('Sacramento', 5.0), ('Alameda', 6.0), ('Sacramento', 5.0), ('Napa', 8.0), ('Imperial', 2.0), ('Marin', 6.0), ('Contra Costa', 5.0), ('Los Angeles', 7.0), ('Solano', 2.0), ('Fresno', 7.0), ('San Diego', 5.0), ('San Francisco', 6.0), ('Inyo', 7.0), ('Santa Barbara', 0.0), ('Monterey', 1.0), ('Los Angeles', 2.0), ('Sacramento', 3.0), ('Orange', 3.0), ('Orange', 11.0), ('Los Angeles', 3.0), ('Santa Barbara', 5.0), ('Los Angeles', 5.0), ('Santa Barbara', 2.0), ('Imperial', 2.0), ('Contra Costa', 6.0), ('Riverside', 2.0), ('Riverside', 1.0), ('Imperial', 3.0), ('Alameda', 3.0), ('Alameda', 6.0), ('Orange', 9.0), ('Santa Barbara', 3.0), ('Los Angeles', 2.0), ('Los Angeles', 3.0), ('Alameda', 5.0), ('Santa Barbara', 1.0), ('San Diego', 7.0), ('San Diego', 8.0), ('Orange', 3.0), ('Orange', 6.0), ('Los Angeles', 5.0), ('Fresno', 2.0)]), ('Colorado', [('El Paso', 9.0), ('Boulder', 28.0), ('El Paso', 9.0), ('El Paso', 9.0), ('El Paso', 25.0), ('El Paso', 7.0), ('El Paso', 10.0), ('El Paso', 8.0), ('Arapahoe', 15.0), ('Denver', 28.0), ('Larimer', 5.0), ('Larimer', 6.0), ('Boulder', 11.0), ('El Paso', 31.0), ('El Paso', 23.0), ('El Paso', 9.0), ('Mesa', 20.0), ('Denver', 19.0), ('El Paso', 36.0), ('El Paso', 24.0), ('El Paso', 5.0), ('El Paso', 20.0), ('Larimer', 16.0), ('Denver', 25.0), ('Weld', 28.0), ('Weld', 16.0), ('Weld', 13.0), ('Boulder', 7.0), ('Denver', 30.0), ('El Paso', 11.0), ('Boulder', 16.0), ('Boulder', 14.0), ('El Paso', 5.0), ('El Paso', 28.0), ('Boulder', 10.0), ('Larimer', 18.0), ('Denver', 19.0), ('Jefferson', 8.0), ('Mesa', 28.0), ('Denver', 9.0), ('Jefferson', 3.0), ('Jefferson', 5.0), ('La Plata', 5.0), ('Adams', 14.0), ('Adams', 11.0), ('Larimer', 7.0), ('Adams', 7.0), ('Denver', 7.0), ('Adams', 5.0), ('Denver', 6.0), ('Weld', 7.0), ('El Paso', 7.0), ('Jefferson', 3.0), ('Larimer', 10.0), ('Mesa', 6.0), ('El Paso', 6.0), ('La Plata', 1.0), ('Denver', 13.0), ('La Plata', 2.0), ('La Plata', 1.0), ('Denver', 3.0), ('Weld', 1.0), ('Denver', 3.0), ('Denver', 5.0), ('Adams', 3.0), ('Mesa', 2.0)]), ('Florida', [('Duval', 15.0), ('Duval', 13.0), ('Hillsborough', 19.0), ('Broward', 17.0), ('Broward', 24.0), ('Broward', 15.0), ('Hillsborough', 13.0), ('Broward', 5.0), ('Duval', 13.0), ('Duval', 16.0), ('Miami-Dade', 43.0), ('Broward', 8.0), ('Duval', 11.0), ('Duval', 18.0), ('Hillsborough', 15.0), ('Hillsborough', 17.0), ('Orange', 9.0), ('Palm Beach', 18.0), ('Pinellas', 7.0), ('Sarasota', 7.0), ('Broward', 15.0), ('Broward', 8.0), ('Duval', 6.0), ('Miami-Dade', 7.0), ('Pinellas', 15.0), ('Broward', 15.0), ('Duval', 10.0), ('Pinellas', 20.0), ('Sarasota', 36.0), ('Sarasota', 15.0), ('Hillsborough', 20.0), ('Hillsborough', 11.0), ('Orange', 17.0), ('Palm Beach', 17.0), ('Broward', 8.0), ('Sarasota', 11.0), ('Sarasota', 39.0), ('Broward', 11.0), ('Palm Beach', 3.0), ('Pinellas', 7.0), ('Sarasota', 22.0), ('Broward', 8.0), ('Hillsborough', 7.0), ('Miami-Dade', 16.0), ('Palm Beach', 3.0), ('Broward', 11.0), ('Broward', 8.0), ('Duval', 8.0), ('Duval', 6.0), ('Orange', 2.0), ('Sarasota', 20.0), ('Sarasota', 15.0), ('Duval', 16.0), ('Miami-Dade', 7.0), ('Miami-Dade', 18.0), ('Miami-Dade', 8.0), ('Orange', 10.0), ('Orange', 6.0), ('Pinellas', 7.0), ('Sarasota', 19.0), ('Miami-Dade', 6.0), ('Miami-Dade', 17.0), ('Broward', 5.0), ('Hillsborough', 13.0), ('Hillsborough', 3.0), ('Miami-Dade', 11.0), ('Miami-Dade', 7.0), ('Palm Beach', 14.0), ('Miami-Dade', 2.0), ('Miami-Dade', 3.0), ('Duval', 6.0), ('Miami-Dade', 3.0), ('Orange', 3.0), ('Broward', 7.0), ('Broward', 5.0), ('Broward', 8.0), ('Miami-Dade', 5.0), ('Broward', 6.0), ('Pinellas', 1.0), ('Duval', 5.0), ('Miami-Dade', 3.0)]), ('Hawaii', [('Honolulu', 10.0), ('Honolulu', 6.0), ('Honolulu', 5.0), ('Honolulu', 7.0), ('Honolulu', 7.0), ('Honolulu', 6.0), ('Honolulu', 11.0), ('Honolulu', 2.0), ('Honolulu', 13.0), ('Honolulu', 11.0), ('Honolulu', 14.0), ('Honolulu', 17.0), ('Honolulu', 3.0), ('Honolulu', 7.0), ('Honolulu', 2.0), ('Honolulu', 2.0)])]\n"
     ]
    }
   ],
   "source": [
    "### YOUR CODE HERE ###\n",
    "# Initialize an empty dictionary to store the AQI data\n",
    "aqi_dict = {}\n",
    "\n",
    "# Loop through each tuple in epa_tuples\n",
    "for state, county, aqi in epa_tuples:\n",
    "    # If the state is not already a key in the dictionary, add it with an empty list\n",
    "    if state not in aqi_dict:\n",
    "        aqi_dict[state] = []\n",
    "    # Append the (county, aqi) tuple to the state's list\n",
    "    aqi_dict[state].append((county, aqi))\n",
    "\n",
    "# Print the first 5 items to verify\n",
    "print(list(aqi_dict.items())[:5])\n"
   ]
  },
  {
   "cell_type": "markdown",
   "metadata": {
    "id": "Tndsby6dn4c4"
   },
   "source": [
    "<details><summary><h4>Hint 1</h4></summary>\n",
    "\n",
    "Refer to what you learned about unpacking tuples in loops and creating dictionaries.\n",
    "\n",
    "</details>"
   ]
  },
  {
   "cell_type": "markdown",
   "metadata": {
    "id": "zJ45IKZ0oA4Z"
   },
   "source": [
    "<details><summary><h4>Hint 2</h4></summary>\n",
    "\n",
    "There are 3 elements in each tuple in `epa_tuples`. Therefore, for each iteration of your loop, you'll need to unpack these 3 elements into their own variables.\n",
    "\n",
    "</details>"
   ]
  },
  {
   "cell_type": "markdown",
   "metadata": {
    "id": "6IzSWU-sodMQ"
   },
   "source": [
    "<details><summary><h4>Hint 3</h4></summary>\n",
    "\n",
    "With each loop iteration, check whether the state is already a key in `aqi_dict`. Then, use conditional logic:\n",
    "* If it is, append the county and AQI as a tuple to the list at that state's value.\n",
    "* If it's not, assign the state as a new key in `aqi_dict`, with a value that is a list containing the county-AQI tuple.\n",
    "\n",
    "</details>"
   ]
  },
  {
   "cell_type": "markdown",
   "metadata": {
    "id": "igHmjfKI0eHK"
   },
   "source": [
    "# Task 2: Use the dictionary to retrieve information\n",
    "\n",
    "Now that you have a dictionary of county-AQI readings by state, you can use it to retrieve information and draw further insight from your data."
   ]
  },
  {
   "cell_type": "markdown",
   "metadata": {
    "id": "cGZhPv6g06W4"
   },
   "source": [
    "## 2a: Calculate how many readings were recorded in the state of Arizona\n",
    "\n",
    "Use your Python skills to calculate the number of readings that were recorded in the state of Arizona.\n",
    "\n",
    "*Expected output:*\n",
    "```\n",
    "[OUT] 72\n",
    "```"
   ]
  },
  {
   "cell_type": "code",
   "execution_count": 4,
   "metadata": {
    "id": "E14DYfPFzk5K"
   },
   "outputs": [
    {
     "name": "stdout",
     "output_type": "stream",
     "text": [
      "72\n"
     ]
    }
   ],
   "source": [
    "### YOUR CODE HERE ###\n",
    "# Get the list of (county, aqi) tuples for Arizona\n",
    "arizona_readings = aqi_dict.get('Arizona', [])\n",
    "\n",
    "# Calculate the number of readings\n",
    "num_arizona_readings = len(arizona_readings)\n",
    "\n",
    "# Print the result\n",
    "print(num_arizona_readings)\n"
   ]
  },
  {
   "cell_type": "markdown",
   "metadata": {
    "id": "JQacJGL09nn2"
   },
   "source": [
    "<details><summary><h4>Hint</h4></summary>\n",
    "\n",
    "Because you only need a count of records, try using the `len()` function to check how many records are in the list that represents the value associated with the `'Arizona'` key.\n",
    "\n",
    "</details>"
   ]
  },
  {
   "cell_type": "markdown",
   "metadata": {
    "id": "vWGIlgb29Nzd"
   },
   "source": [
    "## 2b: Calculate the mean AQI from the state of California\n",
    "\n",
    "Use your Python skills to calculate the mean of the AQI readings that were recorded in the state of California. Note that there are many different approaches you can take. Be creative!\n",
    "\n",
    "*Expected output:*\n",
    "```\n",
    "[OUT] 9.412280701754385\n",
    "```"
   ]
  },
  {
   "cell_type": "code",
   "execution_count": 5,
   "metadata": {
    "id": "Rb9y0usK0Ebn"
   },
   "outputs": [
    {
     "name": "stdout",
     "output_type": "stream",
     "text": [
      "9.412280701754385\n"
     ]
    }
   ],
   "source": [
    "### YOUR CODE HERE ###\n",
    "# Get the list of (county, aqi) tuples for California\n",
    "california_readings = aqi_dict.get('California', [])\n",
    "\n",
    "# Extract the AQI values\n",
    "california_aqi_values = [aqi for county, aqi in california_readings]\n",
    "\n",
    "# Calculate the mean AQI if there are any readings\n",
    "if california_aqi_values:\n",
    "    mean_california_aqi = sum(california_aqi_values) / len(california_aqi_values)\n",
    "else:\n",
    "    mean_california_aqi = None\n",
    "\n",
    "# Print the result\n",
    "print(mean_california_aqi)\n"
   ]
  },
  {
   "cell_type": "markdown",
   "metadata": {
    "id": "M5wrWklg-caP"
   },
   "source": [
    "<details><summary><h4>Hint 1</h4></summary>\n",
    "\n",
    "When you look up a state as a key in `aqi_dict`, its corresponding value is a list of tuples. Consider using a list comprehension to unpack the data contained in each tuple so you can perform operations on it.\n",
    "\n",
    "</details>"
   ]
  },
  {
   "cell_type": "markdown",
   "metadata": {
    "id": "S2AJij6g_cy6"
   },
   "source": [
    "<details><summary><h4>Hint 2</h4></summary>\n",
    "\n",
    "If you can create a list of just the AQI values from each tuple in the values of the 'California' key, then you can calculate the mean of the list in the next step.\n",
    "\n",
    "</details>"
   ]
  },
  {
   "cell_type": "markdown",
   "metadata": {
    "id": "IA7ArHMU_5w4"
   },
   "source": [
    "<details><summary><h4>Hint 3</h4></summary>\n",
    "\n",
    "One way to construct your list is:\n",
    "```\n",
    "[aqi for county, aqi in aqi_dict['California']]\n",
    "```\n",
    "Then, you can sum all the elements in the list and divide by the length of the list to calculate the mean.\n",
    "\n",
    "</details>"
   ]
  },
  {
   "cell_type": "markdown",
   "metadata": {
    "id": "QK6P3Az0J_H9"
   },
   "source": [
    "# Task 3: Define a `county_counter()` function\n",
    "\n",
    "You want to be able to quickly look up how many times a county is represented in a given state's readings. Even though you already have a list containing just county names, it's not safe to rely on the counts from that list alone because some states might have counties with the same name. Therefore, you'll need to use the state-specific information in `aqi_dict` to calculate this information."
   ]
  },
  {
   "cell_type": "markdown",
   "metadata": {
    "id": "vqEANCSJOUU0"
   },
   "source": [
    "## 3a: Write the function\n",
    "\n",
    "* Define a function called `county_counter` that takes one argument:\n",
    "    * `state` - a string of the name of a U.S. state\n",
    "\n",
    "* Return `county_dict` - a `dictionary` object whose keys are counties of the `state` given in the function's argument. For each county key, the corresponding value should be the count of the number of times that county is represented in the AQI data for that state.\n",
    "\n",
    "*Example:*\n",
    "```\n",
    "[IN]  county_counter('Florida')\n",
    "[OUT] {'Duval': 13,\n",
    "       'Hillsborough': 9,\n",
    "       'Broward': 18,\n",
    "       'Miami-Dade': 15,\n",
    "       'Orange': 6,\n",
    "       'Palm Beach': 5,\n",
    "       'Pinellas': 6,\n",
    "       'Sarasota': 9}\n",
    "```\n",
    "\n",
    "**NOTE:** Depending on the version of Python you're using, the order of the items returned by a dictionary can vary, so it's possible that your keys might not print in the same order as listed above. However, the key-value pairs themselves will be the same if you do the exercise successfully."
   ]
  },
  {
   "cell_type": "code",
   "execution_count": 6,
   "metadata": {
    "id": "VoYZhy8PLMvN"
   },
   "outputs": [
    {
     "name": "stdout",
     "output_type": "stream",
     "text": [
      "{'Duval': 13, 'Hillsborough': 9, 'Broward': 18, 'Miami-Dade': 15, 'Orange': 6, 'Palm Beach': 5, 'Pinellas': 6, 'Sarasota': 9}\n"
     ]
    }
   ],
   "source": [
    "### YOUR CODE HERE ###\n",
    "def county_counter(state):\n",
    "    # Initialize an empty dictionary to count counties\n",
    "    county_dict = {}\n",
    "    \n",
    "    # Get the list of (county, aqi) tuples for the given state\n",
    "    state_readings = aqi_dict.get(state, [])\n",
    "    \n",
    "    # Loop through the tuples\n",
    "    for county, aqi in state_readings:\n",
    "        # If the county is not in the dictionary, add it with a count of 0\n",
    "        if county not in county_dict:\n",
    "            county_dict[county] = 0\n",
    "        # Increment the count for the county\n",
    "        county_dict[county] += 1\n",
    "    \n",
    "    return county_dict\n",
    "\n",
    "# Example usage:\n",
    "print(county_counter('Florida'))\n"
   ]
  },
  {
   "cell_type": "markdown",
   "metadata": {
    "id": "731imqkOOs3w"
   },
   "source": [
    "<details><summary><h4>Hint 1</h4></summary>\n",
    "\n",
    "Refer to what you learned about function syntax, how dictionaries behave with iteration techniques, and how to unpack tuples.\n",
    "\n",
    "</details>"
   ]
  },
  {
   "cell_type": "markdown",
   "metadata": {
    "id": "5IiueHVyPN6i"
   },
   "source": [
    "<details><summary><h4>Hint 2</h4></summary>\n",
    "\n",
    "* Use `aqi_dict` in the body of the function.\n",
    "\n",
    "* When you look up a state as a key in `aqi_dict`, its corresponding value is a list of tuples. Unpack the tuples to extract the county, which you can then use to build `county_dict`.\n",
    "\n",
    "</details>"
   ]
  },
  {
   "cell_type": "markdown",
   "metadata": {
    "id": "c-IjDlffPyST"
   },
   "source": [
    "<details><summary><h4>Hint 3</h4></summary>\n",
    "\n",
    "* Begin by instantiating `county_dict` as an empty dictionary.\n",
    "* Then, in a `for` loop, unpack `county, aqi` from each tuple in `aqi_dict[state]`.\n",
    "* Next, use conditional logic to assemble `county_dict`:\n",
    "    * If `county` is already a key in `county_dict`, increment the value at that key by 1.\n",
    "    * If `county` is not a key in `county_dict`, then assign it as a new key whose value is 1.\n",
    "* Return `county_dict`.\n",
    "\n",
    "</details>"
   ]
  },
  {
   "cell_type": "markdown",
   "metadata": {
    "id": "3lt2nty2QzHM"
   },
   "source": [
    "## 3b: Use the function to check Washington County, PA.\n",
    "\n",
    "Use the `county_counter()` function to calculate how many AQI readings were from `Washington` County, `Pennsylvania`.\n",
    "\n",
    "*Expected result:*\n",
    "```\n",
    "[OUT] 7\n",
    "```"
   ]
  },
  {
   "cell_type": "code",
   "execution_count": 7,
   "metadata": {
    "colab": {
     "base_uri": "https://localhost:8080/"
    },
    "executionInfo": {
     "elapsed": 7,
     "status": "ok",
     "timestamp": 1680293128736,
     "user": {
      "displayName": "Matteo Riotto",
      "userId": "15211004813978485634"
     },
     "user_tz": 420
    },
    "id": "hLdLi46fM0wy",
    "outputId": "36830c47-ce36-4a76-da10-db6ee54d6a71"
   },
   "outputs": [
    {
     "name": "stdout",
     "output_type": "stream",
     "text": [
      "7\n"
     ]
    }
   ],
   "source": [
    "### YOUR CODE HERE ###\n",
    "# Get the county counts for Pennsylvania\n",
    "pa_counties = county_counter('Pennsylvania')\n",
    "\n",
    "# Get the count for Washington County\n",
    "washington_county_count = pa_counties.get('Washington', 0)\n",
    "\n",
    "# Print the result\n",
    "print(washington_county_count)\n"
   ]
  },
  {
   "cell_type": "markdown",
   "metadata": {
    "id": "N68ywkC5R5x1"
   },
   "source": [
    "<details><summary><h4>Hint</h4></summary>\n",
    "\n",
    "Use the `county_counter()` function to generate a dictionary of county counts for the state of Pennsylvania. Then, use the resulting dictionary to look up the count for Washington county.\n",
    "\n",
    "</details>\n"
   ]
  },
  {
   "cell_type": "markdown",
   "metadata": {
    "id": "R5KpMuUtVk66"
   },
   "source": [
    "## 3c: Use the function to check the different counties in Indiana\n",
    "\n",
    "Use the `county_counter` function to obtain a list of all the different counties in the state of Indiana.\n",
    "\n",
    "*Expected result:*\n",
    "```\n",
    "[OUT] dict_keys(['Marion', 'St. Joseph', 'Vanderburgh', 'Allen', 'Vigo'\n",
    "      'Hendricks', 'Lake'])\n",
    "```\n",
    "\n",
    "**NOTE:** Depending on the version of Python you're using, the order of the items returned by a dictionary can vary, so it's possible that your keys might not print in this same order as listed above. However, the key-value pairs themselves will be the same if you do the exercise successfully."
   ]
  },
  {
   "cell_type": "code",
   "execution_count": 8,
   "metadata": {
    "colab": {
     "base_uri": "https://localhost:8080/"
    },
    "executionInfo": {
     "elapsed": 216,
     "status": "ok",
     "timestamp": 1680295256697,
     "user": {
      "displayName": "Matteo Riotto",
      "userId": "15211004813978485634"
     },
     "user_tz": 420
    },
    "id": "liiiVWXgV4_8",
    "outputId": "c73b05a3-7585-49e3-f55e-59c1b0ab6b61"
   },
   "outputs": [
    {
     "name": "stdout",
     "output_type": "stream",
     "text": [
      "dict_keys(['Marion', 'St. Joseph', 'Vanderburgh', 'Allen', 'Vigo', 'Hendricks', 'Lake'])\n"
     ]
    }
   ],
   "source": [
    "### YOUR CODE HERE ###\n",
    "# Get the county counts for Indiana\n",
    "indiana_counties = county_counter('Indiana')\n",
    "\n",
    "# Get the list of different counties\n",
    "indiana_county_names = indiana_counties.keys()\n",
    "\n",
    "# Print the result\n",
    "print(indiana_county_names)\n"
   ]
  },
  {
   "cell_type": "markdown",
   "metadata": {
    "id": "7nLYmg5ZWnDz"
   },
   "source": [
    "<details><summary><h4>Hint 1</h4></summary>\n",
    "\n",
    "Refer to what you learned about dictionary methods.\n",
    "\n",
    "</details>"
   ]
  },
  {
   "cell_type": "markdown",
   "metadata": {
    "id": "EOLQUj4ZWvgz"
   },
   "source": [
    "<details><summary><h4>Hint 2</h4></summary>\n",
    "\n",
    "Enter `'Indiana'` as an argument to your `county_counter()` function to get a dictionary of county counts in the state of Indiana. Then, use a dictionary method on the resulting dictionary.\n",
    "\n",
    "</details>"
   ]
  },
  {
   "cell_type": "markdown",
   "metadata": {
    "id": "2B-xdyiCXNdm"
   },
   "source": [
    "<details><summary><h4>Hint 3</h4></summary>\n",
    "\n",
    "Use the `keys()` dictionary method to return a list of the dictionary's keys, which represents the different counties in the state of Indiana.\n",
    "\n",
    "</details>"
   ]
  },
  {
   "cell_type": "markdown",
   "metadata": {
    "id": "gqDduvi4Xe1U"
   },
   "source": [
    "# Task 4: Use sets to determine how many counties share a name\n",
    "\n",
    "In this task, you'll create a list of every county from every state, then use it to determine how many counties have the same name."
   ]
  },
  {
   "cell_type": "markdown",
   "metadata": {
    "id": "PY-64mhWeJiZ"
   },
   "source": [
    "## 4a: Construct a list of every county from every state\n",
    "\n",
    "1.  * Use `aqi_dict` and `county_counter()` to construct a list of every county from every state.\n",
    "    * Assign the result to a variable called `all_counties`.\n",
    "\n",
    "2. Find the length of `all_counties`.\n",
    "\n",
    "*Expected result:*\n",
    "```\n",
    "[OUT] 277\n",
    "```"
   ]
  },
  {
   "cell_type": "markdown",
   "metadata": {
    "id": "S4CXm4CrfFyh"
   },
   "source": [
    "<details><summary><h4>Hint 1</h4></summary>\n",
    "\n",
    "Refer to what you learned about looping over dictionaries. Also, review previous tasks you completed in this notebook.\n",
    "\n",
    "</details>"
   ]
  },
  {
   "cell_type": "markdown",
   "metadata": {
    "id": "LdobBRhXfM-f"
   },
   "source": [
    "<details><summary><h4>Hint 2</h4></summary>\n",
    "\n",
    "* Note that when you call the `keys()` method on a dictionary, the returned object is similar to a list, but it's not of type `list`. It's a dictionary view object, but you can convert it to a list using the `list()` function.\n",
    "\n",
    "* Be mindful of the following:\n",
    "    * `list_a.append(list_b)` increases the length of `list_a`  by 1 no matter how long `list_b` is, because `append()` creates a list of lists.\n",
    "    * `list_a + list_b` increases the length of `list_a` by `len(list_b)`, because adding (`+`) lists combines them.\n",
    "\n",
    "</details>"
   ]
  },
  {
   "cell_type": "markdown",
   "metadata": {
    "id": "kaFWKV3OhXrb"
   },
   "source": [
    "<details><summary><h4>Hint 3</h4></summary>\n",
    "\n",
    "1. Instantiate an empty list called `all_counties`.\n",
    "2. Loop over each state in `aqi_dict.keys()`. For each iteration:\n",
    "    * Extract a list of that state's counties using `list(county_counter(state).keys())`.\n",
    "    * Add the list of counties to `all_counties`.\n",
    "3. Print `len(all_counties)`\n",
    "\n",
    "</details>"
   ]
  },
  {
   "cell_type": "code",
   "execution_count": 9,
   "metadata": {
    "colab": {
     "base_uri": "https://localhost:8080/"
    },
    "executionInfo": {
     "elapsed": 361,
     "status": "ok",
     "timestamp": 1680295739343,
     "user": {
      "displayName": "Matteo Riotto",
      "userId": "15211004813978485634"
     },
     "user_tz": 420
    },
    "id": "2z7AZm6KaEj0",
    "outputId": "33104782-9476-4ce7-a18b-8765e387c673"
   },
   "outputs": [
    {
     "name": "stdout",
     "output_type": "stream",
     "text": [
      "1725\n"
     ]
    }
   ],
   "source": [
    "### YOUR CODE HERE ###\n",
    "# Initialize an empty list to hold all counties\n",
    "all_counties = []\n",
    "\n",
    "# Loop through each state's (county, aqi) list in the dictionary\n",
    "for state, county_aqi_list in aqi_dict.items():\n",
    "    # Extract the county names and add them to the all_counties list\n",
    "    all_counties.extend([county for county, aqi in county_aqi_list])\n",
    "\n",
    "# Print the total number of counties\n",
    "print(len(all_counties))\n"
   ]
  },
  {
   "cell_type": "markdown",
   "metadata": {
    "id": "gDepYdewiSIV"
   },
   "source": [
    "## 4b: Calculate how many counties share names\n",
    "\n",
    "Use `all_counties` and your knowledge of sets and list methods to determine how many counties share names.\n",
    "\n",
    "*Expected result:*\n",
    "```\n",
    "[OUT] 41\n",
    "```"
   ]
  },
  {
   "cell_type": "code",
   "execution_count": 10,
   "metadata": {
    "colab": {
     "base_uri": "https://localhost:8080/"
    },
    "executionInfo": {
     "elapsed": 9,
     "status": "ok",
     "timestamp": 1680297704209,
     "user": {
      "displayName": "Matteo Riotto",
      "userId": "15211004813978485634"
     },
     "user_tz": 420
    },
    "id": "ai7AFt_9irLm",
    "outputId": "78834ce6-acd3-4ded-f80f-d4fa4fc9ac6e"
   },
   "outputs": [
    {
     "name": "stdout",
     "output_type": "stream",
     "text": [
      "1471\n"
     ]
    }
   ],
   "source": [
    "### YOUR CODE HERE ###\n",
    "# Convert the list of all counties to a set to get unique county names\n",
    "unique_counties = set(all_counties)\n",
    "\n",
    "# Calculate the number of counties that have duplicate names\n",
    "num_shared_counties = len(all_counties) - len(unique_counties)\n",
    "\n",
    "# Print the result\n",
    "print(num_shared_counties)\n"
   ]
  },
  {
   "cell_type": "markdown",
   "metadata": {
    "id": "5_C1MQq85aHA"
   },
   "source": [
    "<details><summary><h4>Hint 1</h4></summary>\n",
    "\n",
    "Refer to what you've learned about sets and review the list methods provided in [Reference guide: Lists](https://www.coursera.org/learn/get-started-with-python/supplement/5lejs/reference-guide-lists).\n",
    "\n",
    "</details>"
   ]
  },
  {
   "cell_type": "markdown",
   "metadata": {
    "id": "FE7GBLPF5aBy"
   },
   "source": [
    "<details><summary><h4>Hint 2</h4></summary>\n",
    "\n",
    "- A set cannot contain any duplicate elements. Each value is unique.\n",
    "- Which list method returns the number of times an element occurs in a list?\n",
    "\n",
    "</details>"
   ]
  },
  {
   "cell_type": "markdown",
   "metadata": {
    "id": "5_YEjQ2n5Z9I"
   },
   "source": [
    "<details><summary><h4>Hint 3</h4></summary>\n",
    "\n",
    "1. Instantiate a counter with an initial value of `0` to record the number of counties with shared names. \n",
    "    \n",
    "2. Loop over each unique county name in `all_counties`. (Use the `set()` function to get unique names.)\n",
    "\n",
    "3. For each iteration of the loop, use the `count()` list method to determine how many counties in `all_counties` have that county name.\n",
    "\n",
    "4. If the number of counties with that name is more than one, add that number to the counter (from step 1).\n",
    "\n",
    "</details>"
   ]
  },
  {
   "cell_type": "markdown",
   "metadata": {
    "id": "xhKq_IF9k2z5"
   },
   "source": [
    "Note that this doesn't tell you how many *different* county names were duplicated. Further analysis could uncover more details about this. Perhaps you can figure it out!"
   ]
  },
  {
   "cell_type": "markdown",
   "metadata": {
    "id": "K9nId3uu5Z47"
   },
   "source": [
    "## Conclusion\n",
    "\n",
    "**What are your key takeaways from this lab?**"
   ]
  },
  {
   "cell_type": "markdown",
   "metadata": {
    "id": "A2eoSHnIQG1I"
   },
   "source": [
    "[In this lab, we've practiced creating and manipulating dictionaries and sets in Python. We've learned how to organize data into dictionaries for efficient retrieval, count occurrences using functions, and identify unique and shared elements using sets. These skills are essential for managing and analyzing structured data effectively."
   ]
  },
  {
   "cell_type": "markdown",
   "metadata": {},
   "source": [
    "**Congratulations!** You've completed this lab. However, you may not notice a green check mark next to this item on Coursera's platform. Please continue your progress regardless of the check mark. Just click on the \"save\" icon at the top of this notebook to ensure your work has been logged. "
   ]
  }
 ],
 "metadata": {
  "colab": {
   "provenance": []
  },
  "kernelspec": {
   "display_name": "Python 3",
   "language": "python",
   "name": "python3"
  },
  "language_info": {
   "codemirror_mode": {
    "name": "ipython",
    "version": 3
   },
   "file_extension": ".py",
   "mimetype": "text/x-python",
   "name": "python",
   "nbconvert_exporter": "python",
   "pygments_lexer": "ipython3",
   "version": "3.7.6"
  }
 },
 "nbformat": 4,
 "nbformat_minor": 1
}
